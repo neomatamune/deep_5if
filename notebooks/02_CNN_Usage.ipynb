{
 "cells": [
  {
   "cell_type": "code",
   "execution_count": 22,
   "metadata": {},
   "outputs": [],
   "source": [
    "import numpy as np\n",
    "import matplotlib.pyplot as plt\n",
    "from PIL import Image\n",
    "import caffe\n",
    "batch_size = 64\n",
    "caffe.set_mode_cpu()\n",
    "model = 'conv.prototxt'\n",
    "weights = 'deep_iter_100000.caffemodel'\n",
    "net = caffe.Net(model, weights, caffe.TEST)"
   ]
  },
  {
   "cell_type": "code",
   "execution_count": null,
   "metadata": {},
   "outputs": [],
   "source": [
    "accuracy = 0\n",
    "batch_size = net.blobs['data'].num\n",
    "test_iters = (26950+64770) / 64\n",
    "for i in range(test_iters):\n",
    "    net.forward()\n",
    "    accuracy += net.blobs['accuracy'].data\n",
    "accuracy /= test_iters\n",
    "\n",
    "print \"Accuracy: {}\".format(accuracy)\n",
    "print accuracy * (26950+64770)"
   ]
  },
  {
   "cell_type": "code",
   "execution_count": 13,
   "metadata": {},
   "outputs": [],
   "source": [
    "batch_size = 256\n",
    "model_test = 'deploy.prototxt'\n",
    "net_test = caffe.Net(model_test, weights, caffe.TEST)"
   ]
  },
  {
   "cell_type": "code",
   "execution_count": 14,
   "metadata": {},
   "outputs": [
    {
     "name": "stdout",
     "output_type": "stream",
     "text": [
      "7424 5304 0.714439655172\n"
     ]
    }
   ],
   "source": [
    "faces = 0\n",
    "count = 0\n",
    "test_iters = (6831 + 632 + 165) / batch_size\n",
    "for i in range(test_iters):\n",
    "    out = net_test.forward()\n",
    "    for i in range(batch_size):\n",
    "        count += 1\n",
    "        if net_test.blobs['prob'].data[i].argmax():\n",
    "            faces += 1\n",
    "print count, faces, faces * 1.0 / count"
   ]
  }
 ],
 "metadata": {
  "kernelspec": {
   "display_name": "Python 2",
   "language": "python",
   "name": "python2"
  },
  "language_info": {
   "codemirror_mode": {
    "name": "ipython",
    "version": 2
   },
   "file_extension": ".py",
   "mimetype": "text/x-python",
   "name": "python",
   "nbconvert_exporter": "python",
   "pygments_lexer": "ipython2",
   "version": "2.7.12"
  }
 },
 "nbformat": 4,
 "nbformat_minor": 2
}

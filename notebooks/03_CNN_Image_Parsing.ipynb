{
 "cells": [
  {
   "cell_type": "markdown",
   "metadata": {},
   "source": [
    "### Basic setup of neural network"
   ]
  },
  {
   "cell_type": "code",
   "execution_count": 10,
   "metadata": {},
   "outputs": [],
   "source": [
    "import numpy as np\n",
    "import matplotlib.pyplot as plt\n",
    "from PIL import Image\n",
    "import cv2\n",
    "import caffe\n",
    "import os\n",
    "\n",
    "caffe.set_mode_cpu()\n",
    "model = 'deploy.prototxt'\n",
    "weights = 'deep_iter_100000.caffemodel'\n",
    "net = caffe.Net(model, weights, caffe.TEST)\n",
    "\n",
    "try:\n",
    "    os.mkdir(\"../data/results/\")\n",
    "except OSError: pass\n",
    "try:\n",
    "    os.mkdir(\"../data/results/1/\")\n",
    "except OSError: pass"
   ]
  },
  {
   "cell_type": "markdown",
   "metadata": {},
   "source": [
    "### Implementation of face detector\n",
    "\n",
    "    Downscaling done by factor of 2 (using an integrated function of opencv which seems to be the only way to do pyramid scaling without destroying the quality of the images)\n",
    "    Naive algorithm implementation, without heuristics : we simply use a shifting window of size 36*36px and offset 4px."
   ]
  },
  {
   "cell_type": "code",
   "execution_count": 11,
   "metadata": {},
   "outputs": [
    {
     "ename": "NameError",
     "evalue": "name 'showarray' is not defined",
     "output_type": "error",
     "traceback": [
      "\u001b[0;31m\u001b[0m",
      "\u001b[0;31mNameError\u001b[0mTraceback (most recent call last)",
      "\u001b[0;32m<ipython-input-11-59b82b33e41e>\u001b[0m in \u001b[0;36m<module>\u001b[0;34m()\u001b[0m\n\u001b[1;32m     32\u001b[0m         \u001b[0mimg_scale_name\u001b[0m \u001b[0;34m=\u001b[0m \u001b[0mimg_base_name\u001b[0m \u001b[0;34m+\u001b[0m \u001b[0mstr\u001b[0m\u001b[0;34m(\u001b[0m\u001b[0mscale\u001b[0m\u001b[0;34m)\u001b[0m \u001b[0;34m+\u001b[0m \u001b[0;34m\"_\"\u001b[0m\u001b[0;34m\u001b[0m\u001b[0m\n\u001b[1;32m     33\u001b[0m \u001b[0;34m\u001b[0m\u001b[0m\n\u001b[0;32m---> 34\u001b[0;31m         \u001b[0mshowarray\u001b[0m\u001b[0;34m(\u001b[0m\u001b[0mim\u001b[0m\u001b[0;34m)\u001b[0m\u001b[0;34m\u001b[0m\u001b[0m\n\u001b[0m\u001b[1;32m     35\u001b[0m \u001b[0;34m\u001b[0m\u001b[0m\n\u001b[1;32m     36\u001b[0m         \u001b[0;31m# Face detector\u001b[0m\u001b[0;34m\u001b[0m\u001b[0;34m\u001b[0m\u001b[0m\n",
      "\u001b[0;31mNameError\u001b[0m: name 'showarray' is not defined"
     ]
    }
   ],
   "source": [
    "for id_img in range(1, 8):\n",
    "    # Used on 7 images named 1.jpg to 7.jpg\n",
    "    image_path = '../data/' + str(id_img) + '.jpg'\n",
    "    \n",
    "    # Open image and convert to gray scale\n",
    "    im =  cv2.imread(image_path)\n",
    "    im = cv2.cvtColor(im, cv2.COLOR_BGR2GRAY)\n",
    "    \n",
    "    # Save base image for future comparison\n",
    "    imbase = im\n",
    "    \n",
    "    scale = 1\n",
    "    \n",
    "    base_save_path = \"../data/results/\"\n",
    "    img_base_name = str(id_img) + \"_\"\n",
    "    \n",
    "    # Used to batch save detected faces, and avoid writing to disk at every loop\n",
    "    keep = dict()\n",
    "    \n",
    "    # Tuple with (width, height)\n",
    "    shifting_window_size = 36, 36\n",
    "    offset = 4\n",
    "    \n",
    "    min_probability_for_a_match = 0.99\n",
    "    \n",
    "    while (len(im) >= shifting_window_size[0] * 2 and \n",
    "           len(im[0]) > shifting_window_size[1] * 2):\n",
    "        # Downscale of the image using opencv pyramid scaling\n",
    "        im = cv2.pyrDown(im)\n",
    "        scale*=2\n",
    "        \n",
    "        img_scale_name = img_base_name + str(scale) + \"_\"\n",
    "        \n",
    "        showarray(im)\n",
    "        \n",
    "        # Face detector\n",
    "        for x in range(0, len(im) - shifting_window_size[0], offset):\n",
    "            for y in range(0, len(im[0]) - shifting_window_size[1], offset):\n",
    "                img_name = img_scale_name + str(x) + \"_\" + str(y) + \".png\"\n",
    "                \n",
    "                # Create the shift window image on the original scaled image \n",
    "                imtmp = np.array(im [x:x + shifting_window_size[0],\n",
    "                                     y:y + shifting_window_size[1]])\n",
    "                \n",
    "                # Transform the data to be compatible as an entry to the neural network\n",
    "                im_input = imtmp[np.newaxis, np.newaxis, :, :] / 256.0\n",
    "                \n",
    "                # Input the data in the NN\n",
    "                net.blobs['data'].reshape(*im_input.shape)\n",
    "                net.blobs['data'].data[...] = imtmp\n",
    "                \n",
    "                # Run the NN\n",
    "                output = net.forward()\n",
    "                \n",
    "                # If the probability that the image that is in the\n",
    "                #shift window is a face is higher than 99%\n",
    "                if output['prob'][0][1] > min_probability_for_a_match:\n",
    "                    # We add a bounding box in the original image\n",
    "                    white = 255\n",
    "                    for i in range (x * scale, (x + shifting_window_size[0]) * scale):\n",
    "                        imbase[i][y * scale] = white\n",
    "                        imbase[i][(y + shifting_window_size[1]) * scale] = white\n",
    "                    for j in range(y * scale, (y + shifting_window_size[1]) * scale):\n",
    "                        imbase[x * scale][j] = white\n",
    "                        imbase[(x + shifting_window_size[0]) * scale][j] = white\n",
    "\n",
    "                    # Save this in memory\n",
    "                    save_dir = \"1/\"\n",
    "                    save_path = base_save_path + save_dir + img_name\n",
    "                    keep[save_path] = imtmp\n",
    "    \n",
    "    # When everything is done we show the original image\n",
    "    #with the bounding boxes and save it as a file\n",
    "    showarray(imbase)\n",
    "    save_results = \"../data/results/\" + str(id_img) + \".jpg\"\n",
    "    cv2.imwrite(save_results, imbase)\n",
    "    \n",
    "    # We also save the face subimages we found to improve the NN in the future\n",
    "    for path,img in keep.iteritems():\n",
    "        cv2.imwrite(path, img)"
   ]
  },
  {
   "cell_type": "code",
   "execution_count": null,
   "metadata": {},
   "outputs": [],
   "source": []
  }
 ],
 "metadata": {
  "kernelspec": {
   "display_name": "Python 2",
   "language": "python",
   "name": "python2"
  },
  "language_info": {
   "codemirror_mode": {
    "name": "ipython",
    "version": 2
   },
   "file_extension": ".py",
   "mimetype": "text/x-python",
   "name": "python",
   "nbconvert_exporter": "python",
   "pygments_lexer": "ipython2",
   "version": "2.7.12"
  }
 },
 "nbformat": 4,
 "nbformat_minor": 2
}

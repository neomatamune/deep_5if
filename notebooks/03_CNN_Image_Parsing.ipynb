{
 "cells": [
  {
   "cell_type": "markdown",
   "metadata": {},
   "source": [
    "### Basic setup of neural network"
   ]
  },
  {
   "cell_type": "code",
   "execution_count": null,
   "metadata": {},
   "outputs": [],
   "source": [
    "import numpy as np\n",
    "import matplotlib.pyplot as plt\n",
    "from PIL import Image\n",
    "import cv2\n",
    "import caffe\n",
    "import os\n",
    "\n",
    "caffe.set_mode_cpu()\n",
    "model = 'deploy.prototxt'\n",
    "weights = 'deep_iter_100000.caffemodel'\n",
    "net = caffe.Net(model, weights, caffe.TEST)\n",
    "\n",
    "try:\n",
    "    os.mkdir(\"../data/results/\")\n",
    "except OSError: pass\n",
    "try:\n",
    "    os.mkdir(\"../data/results/1/\")\n",
    "except OSError: pass"
   ]
  },
  {
   "cell_type": "markdown",
   "metadata": {},
   "source": [
    "### Implementation of face detector\n",
    "\n",
    "    Scaling done by factor of 2 (use of opencv)\n",
    "    Naive algorithm : every 4 pixel we select a new box to test"
   ]
  },
  {
   "cell_type": "code",
   "execution_count": null,
   "metadata": {},
   "outputs": [],
   "source": [
    "for id_img in range(1,8):\n",
    "    # Used on 7 images named 1.jpg to 7.jpg\n",
    "    image_path = '../data/'+str(id_img)+'.jpg'\n",
    "    \n",
    "    # Open image on gray scale\n",
    "    im =  cv2.imread(image_path)\n",
    "    im = cv2.cvtColor(im, cv2.COLOR_BGR2GRAY)\n",
    "    \n",
    "    imbase = im\n",
    "    \n",
    "    scale = 1\n",
    "    \n",
    "    base_save_path = \"../data/results/\"\n",
    "    img_base_name = str(id_img) + \"_\"\n",
    "    \n",
    "    # Used to batch save detected faces\n",
    "    keep = dict()\n",
    "    \n",
    "    while len(im) >=36*2 and len(im[0]) >36*2:\n",
    "        # Downscale of the image using opencv pyramid scaling\n",
    "        im = cv2.pyrDown(im)\n",
    "        scale*=2\n",
    "        \n",
    "        img_scale_name = img_base_name + str(scale) + \"_\"\n",
    "        \n",
    "        print len(im)\n",
    "        showarray(im)\n",
    "        \n",
    "        # Face detector\n",
    "        for x in range(0,len(im)-36,4):\n",
    "            for y in range(0,len(im[0])-36,4):\n",
    "                img_name = img_scale_name + str(x) + \"_\" + str(y) + \".png\"\n",
    "                \n",
    "                # Create a sub image on the original scaled image \n",
    "                imtmp = np.array(im [x:x+36, y:y+36])\n",
    "                \n",
    "                # Transform the data to be compatible as an entry to the neural network\n",
    "                im_input = imtmp[np.newaxis, np.newaxis, :, :]/256.0\n",
    "                \n",
    "                # Input the data in the NN\n",
    "                net.blobs['data'].reshape(*im_input.shape)\n",
    "                net.blobs['data'].data[...] = imtmp\n",
    "                \n",
    "                # Compute the data\n",
    "                output = net.forward()\n",
    "                if output['prob'][0][1] > 0.99:\n",
    "                    if output['prob'][0][0] < 0.001:\n",
    "                        # The sub image is a face we add a bounding box in the original image\n",
    "                        save_dir = \"1/\"\n",
    "                        for i in range (x*scale, (x+36)*scale):\n",
    "                            imbase[i][y*scale]=255\n",
    "                            imbase[i][(y+36)*scale]=255\n",
    "                        for j in range(y*scale, (y+36)*scale):\n",
    "                            imbase[x*scale][j]=255\n",
    "                            imbase[(x+36)*scale][j]=255\n",
    "                        save_path = base_save_path + save_dir + img_name\n",
    "                        keep[save_path] = imtmp\n",
    "    \n",
    "    # We show the original image with the bounding boxes and save it\n",
    "    showarray(imbase)\n",
    "    save_results = \"../data/results/\"+str(id_img)+\".jpg\"\n",
    "    cv2.imwrite(save_results, imbase)\n",
    "    \n",
    "    # We save the faces we found\n",
    "    for path,img in keep.iteritems():\n",
    "        cv2.imwrite(path, img)"
   ]
  }
 ],
 "metadata": {
  "kernelspec": {
   "display_name": "Python 2",
   "language": "python",
   "name": "python2"
  },
  "language_info": {
   "codemirror_mode": {
    "name": "ipython",
    "version": 2
   },
   "file_extension": ".py",
   "mimetype": "text/x-python",
   "name": "python",
   "nbconvert_exporter": "python",
   "pygments_lexer": "ipython2",
   "version": "2.7.12"
  }
 },
 "nbformat": 4,
 "nbformat_minor": 2
}

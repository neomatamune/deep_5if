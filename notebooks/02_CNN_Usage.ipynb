{
 "cells": [
  {
   "cell_type": "code",
   "execution_count": 22,
   "metadata": {},
   "outputs": [],
   "source": [
    "import numpy as np\n",
    "import matplotlib.pyplot as plt\n",
    "from PIL import Image\n",
    "import caffe\n",
    "\n",
    "caffe.set_mode_cpu()\n",
    "model = 'conv.prototxt'\n",
    "weights = 'deep_iter_100000.caffemodel'\n",
    "net = caffe.Net(model, weights, caffe.TEST)"
   ]
  },
  {
   "cell_type": "code",
   "execution_count": 23,
   "metadata": {},
   "outputs": [
    {
     "name": "stdout",
     "output_type": "stream",
     "text": [
      "Accuracy: 0.956450628053\n",
      "87725.651605\n"
     ]
    }
   ],
   "source": [
    "NUMBER_OF_IMAGES_ON_TRAINING_SET_WITHOUT_FACE = 26950\n",
    "NUMBER_OF_IMAGES_ON_TRAINING_SET_WITH_A_FACE = 64770\n",
    "TOTAL_NUMBER_OF_IMAGES_ON_TRAINING_SET = NUMBER_OF_IMAGES_ON_TRAINING_SET_WITHOUT_FACE + NUMBER_OF_IMAGES_ON_TRAINING_SET_WITH_A_FACE\n",
    "accuracy = 0\n",
    "batch_size = net.blobs['data'].num\n",
    "test_iters = TOTAL_NUMBER_OF_IMAGES_ON_TRAINING_SET / batch_size\n",
    "\n",
    "for i in range(test_iters):\n",
    "    net.forward()\n",
    "    accuracy += net.blobs['accuracy'].data\n",
    "accuracy /= test_iters\n",
    "\n",
    "print \"Accuracy: {}\".format(accuracy)\n",
    "print \"Number of well classified images : {}\".format(int(accuracy * TOTAL_NUMBER_OF_IMAGES_ON_TRAINING_SET))"
   ]
  },
  {
   "cell_type": "code",
   "execution_count": 24,
   "metadata": {},
   "outputs": [],
   "source": [
    "model_test = 'deploy.prototxt'\n",
    "net_test = caffe.Net(model_test, weights, caffe.TEST)"
   ]
  },
  {
   "cell_type": "code",
   "execution_count": 25,
   "metadata": {},
   "outputs": [
    {
     "name": "stdout",
     "output_type": "stream",
     "text": [
      "7424 5575 0.750942887931\n"
     ]
    }
   ],
   "source": [
    "NUMBER_OF_IMAGES_ON_GOOGLEFACE_TEST = 632\n",
    "NUMBER_OF_IMAGES_ON_GOOGLE_IMAGES = 6831\n",
    "NUMBER_OF_IMAGES_ON_YALEFACES_TEST = 165\n",
    "TOTAL_NUMBER_OF_IMAGES_ON_TEST_SET = NUMBER_OF_IMAGES_ON_YALEFACES_TEST + NUMBER_OF_IMAGES_ON_GOOGLE_IMAGES +NUMBER_OF_IMAGES_ON_GOOGLEFACE_TEST\n",
    "\n",
    "faces = 0\n",
    "count = 0\n",
    "batch_size = net.blobs['data'].num\n",
    "test_iters = TOTAL_NUMBER_OF_IMAGES_ON_TEST_SET / batch_size\n",
    "for i in range(test_iters):\n",
    "    out = net_test.forward()\n",
    "    for i in range(batch_size):\n",
    "        count += 1\n",
    "        if net_test.blobs['prob'].data[i].argmax():\n",
    "            faces += 1\n",
    "print count, faces, faces * 1.0 / count"
   ]
  }
 ],
 "metadata": {
  "kernelspec": {
   "display_name": "Python 2",
   "language": "python",
   "name": "python2"
  },
  "language_info": {
   "codemirror_mode": {
    "name": "ipython",
    "version": 2
   },
   "file_extension": ".py",
   "mimetype": "text/x-python",
   "name": "python",
   "nbconvert_exporter": "python",
   "pygments_lexer": "ipython2",
   "version": "2.7.12"
  }
 },
 "nbformat": 4,
 "nbformat_minor": 2
}

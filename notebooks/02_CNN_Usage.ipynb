{
 "cells": [
  {
   "cell_type": "markdown",
   "metadata": {},
   "source": [
    "### Basic setup of neural network"
   ]
  },
  {
   "cell_type": "code",
   "execution_count": 10,
   "metadata": {},
   "outputs": [],
   "source": [
    "import caffe\n",
    "\n",
    "caffe.set_mode_cpu()\n",
    "\n",
    "model_train = 'conv.prototxt'\n",
    "model_test = 'deploy.prototxt'\n",
    "weights = 'deep_iter_100000.caffemodel'\n",
    "\n",
    "net_training = caffe.Net(model_train, weights, caffe.TEST)\n",
    "net_testing = caffe.Net(model_test, weights, caffe.TEST)"
   ]
  },
  {
   "cell_type": "markdown",
   "metadata": {},
   "source": [
    "### Compute the accuracy of the previously trained neural network on the training dataset (see 01_CNN_Training notebook) by using the accuracy layer of the network (defined inconv.prototxt)"
   ]
  },
  {
   "cell_type": "code",
   "execution_count": 16,
   "metadata": {},
   "outputs": [
    {
     "name": "stdout",
     "output_type": "stream",
     "text": [
      "Accuracy of trained network on train data: 0.956450628053\n",
      "Number of well classified images on train data: 87725\n"
     ]
    }
   ],
   "source": [
    "NUMBER_OF_IMAGES_ON_TRAINING_SET_WITHOUT_FACE = 26950\n",
    "NUMBER_OF_IMAGES_ON_TRAINING_SET_WITH_A_FACE = 64770\n",
    "\n",
    "TOTAL_NUMBER_OF_IMAGES_ON_TRAINING_SET = (NUMBER_OF_IMAGES_ON_TRAINING_SET_WITHOUT_FACE +\n",
    "                                          NUMBER_OF_IMAGES_ON_TRAINING_SET_WITH_A_FACE)\n",
    "\n",
    "total_accuracy = 0\n",
    "batch_size = net_training.blobs['data'].num\n",
    "test_iters = TOTAL_NUMBER_OF_IMAGES_ON_TRAINING_SET / batch_size\n",
    "\n",
    "for i in range(test_iters):\n",
    "    net_training.forward()\n",
    "    batch_accuracy = net_training.blobs['accuracy'].data\n",
    "    total_accuracy += batch_accuracy\n",
    "accuracy = total_accuracy / test_iters\n",
    "\n",
    "print \"Accuracy of trained network on train data: {}\".format(accuracy)\n",
    "print \"Number of well classified images on train data: {}\".format(\n",
    "    int(accuracy * TOTAL_NUMBER_OF_IMAGES_ON_TRAINING_SET))"
   ]
  },
  {
   "cell_type": "markdown",
   "metadata": {},
   "source": [
    "### Evaluate the accuracy of the previously trained neural network on the test dataset"
   ]
  },
  {
   "cell_type": "code",
   "execution_count": 17,
   "metadata": {},
   "outputs": [
    {
     "name": "stdout",
     "output_type": "stream",
     "text": [
      "Number of faces found on test : 5561 / 7424 images\n",
      "Accuracy of trained network on test data: 0.282731681034\n",
      "Number of well classified images on test data: 2156\n"
     ]
    }
   ],
   "source": [
    "NUMBER_OF_IMAGES_ON_GOOGLEFACE_TEST = 632\n",
    "NUMBER_OF_IMAGES_ON_GOOGLE_IMAGES = 6831\n",
    "NUMBER_OF_IMAGES_ON_YALEFACES_TEST = 165\n",
    "\n",
    "TOTAL_NUMBER_OF_IMAGES_ON_TEST_SET = (NUMBER_OF_IMAGES_ON_YALEFACES_TEST +\n",
    "                                      NUMBER_OF_IMAGES_ON_GOOGLE_IMAGES +\n",
    "                                      NUMBER_OF_IMAGES_ON_GOOGLEFACE_TEST)\n",
    "\n",
    "img_classified_as_faces = 0\n",
    "img_classified = 0\n",
    "\n",
    "total_accuracy = 0\n",
    "\n",
    "batch_size = net_testing.blobs['data'].num\n",
    "test_iters = TOTAL_NUMBER_OF_IMAGES_ON_TEST_SET / batch_size\n",
    "\n",
    "for i in range(test_iters):\n",
    "    net_testing.forward()\n",
    "    batch_accuracy = net_testing.blobs['accuracy'].data\n",
    "    total_accuracy += batch_accuracy\n",
    "    for i in range(batch_size):\n",
    "        img_classified += 1\n",
    "        if net_testing.blobs['prob'].data[i].argmax():\n",
    "            img_classified_as_faces += 1\n",
    "            \n",
    "\n",
    "accuracy = total_accuracy / test_iters\n",
    "\n",
    "print \"Number of faces found on test : {} / {} images\".format(img_classified_as_faces,\n",
    "                                                              img_classified)\n",
    "print \"Accuracy of trained network on test data: {}\".format(accuracy)\n",
    "print \"Number of well classified images on test data: {}\".format(\n",
    "    int(accuracy * TOTAL_NUMBER_OF_IMAGES_ON_TEST_SET))"
   ]
  }
 ],
 "metadata": {
  "kernelspec": {
   "display_name": "Python 2",
   "language": "python",
   "name": "python2"
  },
  "language_info": {
   "codemirror_mode": {
    "name": "ipython",
    "version": 2
   },
   "file_extension": ".py",
   "mimetype": "text/x-python",
   "name": "python",
   "nbconvert_exporter": "python",
   "pygments_lexer": "ipython2",
   "version": "2.7.12"
  }
 },
 "nbformat": 4,
 "nbformat_minor": 2
}
